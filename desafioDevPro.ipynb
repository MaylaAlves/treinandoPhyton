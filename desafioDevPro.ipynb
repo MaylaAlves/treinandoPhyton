{
  "cells": [
    {
      "cell_type": "markdown",
      "metadata": {
        "id": "view-in-github",
        "colab_type": "text"
      },
      "source": [
        "<a href=\"https://colab.research.google.com/github/MaylaAlves/treinandoPhyton/blob/main/desafioDevPro.ipynb\" target=\"_parent\"><img src=\"https://colab.research.google.com/assets/colab-badge.svg\" alt=\"Open In Colab\"/></a>"
      ]
    },
    {
      "cell_type": "markdown",
      "metadata": {
        "id": "09WHYbJF0ypV"
      },
      "source": [
        "#Primeiro Desafio Dev Pro"
      ]
    },
    {
      "cell_type": "markdown",
      "metadata": {
        "id": "7qav9tTe1Dpc"
      },
      "source": [
        "Resolução dos exercicios da [lista Phyton Brasil](https://wiki.python.org.br/ListaDeExercicios)"
      ]
    },
    {
      "cell_type": "markdown",
      "metadata": {
        "id": "gxswEafs1oHY"
      },
      "source": [
        "#[Estrurura sequencial](https://wiki.python.org.br/EstruturaSequencial)"
      ]
    },
    {
      "cell_type": "markdown",
      "metadata": {
        "id": "XaPKzwFb18Kq"
      },
      "source": [
        "Exercicio 1"
      ]
    },
    {
      "cell_type": "code",
      "execution_count": null,
      "metadata": {
        "colab": {
          "base_uri": "https://localhost:8080/"
        },
        "id": "626cLKlW1-f1",
        "outputId": "85133522-f22a-404c-f508-efa3f4588d4d"
      },
      "outputs": [
        {
          "name": "stdout",
          "output_type": "stream",
          "text": [
            "Hello World!\n"
          ]
        }
      ],
      "source": [
        "print ('Hello World!')"
      ]
    },
    {
      "cell_type": "code",
      "execution_count": null,
      "metadata": {
        "colab": {
          "base_uri": "https://localhost:8080/"
        },
        "id": "bPuWvdt92XE3",
        "outputId": "5d4f4be0-4ccd-4103-d9b8-1d9a77ec3cb2"
      },
      "outputs": [
        {
          "data": {
            "text/plain": [
              "str"
            ]
          },
          "execution_count": 2,
          "metadata": {},
          "output_type": "execute_result"
        }
      ],
      "source": [
        "type ('Hello World!')"
      ]
    },
    {
      "cell_type": "markdown",
      "metadata": {
        "id": "E4cBlNLv2kIg"
      },
      "source": [
        "Exercicio 2"
      ]
    },
    {
      "cell_type": "code",
      "execution_count": null,
      "metadata": {
        "colab": {
          "base_uri": "https://localhost:8080/"
        },
        "id": "5G3UphA_2nwC",
        "outputId": "77796707-53ab-448c-c797-4462996fd547"
      },
      "outputs": [
        {
          "name": "stdout",
          "output_type": "stream",
          "text": [
            "Digite um número: 57\n",
            "O numero informado foi 57\n"
          ]
        }
      ],
      "source": [
        "numero = input ('Digite um número: ')\n",
        "print (f'O numero informado foi {numero}')"
      ]
    },
    {
      "cell_type": "markdown",
      "metadata": {
        "id": "HS7qE4V93Ytt"
      },
      "source": [
        "Exrecicio 3"
      ]
    },
    {
      "cell_type": "code",
      "execution_count": null,
      "metadata": {
        "colab": {
          "base_uri": "https://localhost:8080/"
        },
        "id": "yMj8XPTM3bL-",
        "outputId": "e50cc6c6-76f8-418c-acd9-1a98d2f029c1"
      },
      "outputs": [
        {
          "name": "stdout",
          "output_type": "stream",
          "text": [
            "Digite um número: 10\n",
            "Digite outro número: 12\n",
            "A soma dos dois números é 22\n"
          ]
        }
      ],
      "source": [
        "num_1 = int(input ('Digite um número: '))\n",
        "num_2 = int(input ('Digite outro número: '))\n",
        "soma = num_1 + num_2\n",
        "print(f'A soma dos dois números é {soma}')"
      ]
    },
    {
      "cell_type": "markdown",
      "metadata": {
        "id": "pBymBEtR4J6d"
      },
      "source": [
        "#Exercicio 17\n",
        "\n",
        "Faça um Programa para uma loja de tintas. O programa deverá pedir o tamanho em metros quadrados da área a ser pintada. Considere que a cobertura da tinta é de 1 litro para cada 6 metros quadrados e que a tinta é vendida em latas de 18 litros, que custam R$ 80,00 ou em galões de 3,6 litros, que custam R$ 25,00.\n",
        "Informe ao usuário as quantidades de tinta a serem compradas e os respectivos preços em 3 situações:\n",
        "comprar apenas latas de 18 litros;\n",
        "comprar apenas galões de 3,6 litros;\n",
        "misturar latas e galões, de forma que o desperdício de tinta seja menor. Acrescente 10% de folga e sempre arredonde os valores para cima, isto é, considere latas cheias."
      ]
    },
    {
      "cell_type": "code",
      "execution_count": null,
      "metadata": {
        "colab": {
          "base_uri": "https://localhost:8080/"
        },
        "id": "PoHEUlhV4NrO",
        "outputId": "ee9dcd98-3183-4037-8770-d2f4e481df5f"
      },
      "outputs": [
        {
          "name": "stdout",
          "output_type": "stream",
          "text": [
            "Informe a área a ser pintada em m²: 55\n",
            "Você deverá usar 1 latas de 18 litros, no valor de R$ 80\n",
            "Você deverá usar 3 galoes 3.6 litros, no valor de R$ 75\n",
            "Você deverá usar 0 latas de 18 litros + 3 galões de 3.6litros, no valor de R$ 75\n"
          ]
        }
      ],
      "source": [
        "import math\n",
        "\n",
        "area_a_ser_pintada = int(input('Informe a área a ser pintada em m²: '))\n",
        "area_com_folga = area_a_ser_pintada * 1.1\n",
        "litros_metro = 6\n",
        "litros_usados = area_com_folga / litros_metro\n",
        "litros_lata  = 18\n",
        "numero_latas = math.ceil(litros_usados / litros_lata)\n",
        "valor_latas = numero_latas * 80\n",
        "print(f'Você deverá usar {numero_latas} latas de 18 litros, no valor de R$ {valor_latas}')\n",
        "\n",
        "litros_galao  = 3.6\n",
        "numero_galoes = math.ceil(litros_usados / litros_galao)\n",
        "valor_galoes = numero_galoes * 25\n",
        "print(f'Você deverá usar {numero_galoes} galoes 3.6 litros, no valor de R$ {valor_galoes}')\n",
        "\n",
        "#compra otimizada\n",
        "numero_latas = math.floor(litros_usados / litros_lata)\n",
        "valor_latas = numero_latas * 80\n",
        "litros_faltantes = litros_usados % litros_lata\n",
        "numero_galoes = math.ceil(litros_faltantes / litros_galao)\n",
        "valor_galoes = numero_galoes * 25\n",
        "\n",
        "valor_total = valor_latas + valor_galoes\n",
        "\n",
        "print(f'Você deverá usar {numero_latas} latas de 18 litros + {numero_galoes} galões de 3.6litros, no valor de R$ {valor_total}')\n",
        "\n",
        "\n",
        "\n"
      ]
    },
    {
      "cell_type": "markdown",
      "metadata": {
        "id": "VZej6GioL9N2"
      },
      "source": []
    },
    {
      "cell_type": "markdown",
      "metadata": {
        "id": "fMZbX9TbMJ_M"
      },
      "source": [
        "#[Estrutura Decisão](https://wiki.python.org.br/EstruturaDeDecisao)"
      ]
    },
    {
      "cell_type": "markdown",
      "metadata": {
        "id": "uuV5WOxbMS1t"
      },
      "source": [
        "##Exercicio 3\n",
        "\n",
        "Faça um Programa que verifique se uma letra digitada é \"F\" ou \"M\". Conforme a letra escrever: F - Feminino, M - Masculino, Sexo Inválido."
      ]
    },
    {
      "cell_type": "code",
      "execution_count": null,
      "metadata": {
        "colab": {
          "base_uri": "https://localhost:8080/"
        },
        "id": "sTaoO0yYL3Ev",
        "outputId": "df562c3c-0b30-4a46-be45-0a7f8183ab43"
      },
      "outputs": [
        {
          "name": "stdout",
          "output_type": "stream",
          "text": [
            "Digite o seu sexo (M para Masculino, F para Feminino, I para Indefinido): oooo\n",
            "Sexo inválido\n",
            "Fim programa.\n"
          ]
        }
      ],
      "source": [
        "sexo = input ('Digite o seu sexo (M para Masculino, F para Feminino, I para Indefinido): ').upper()\n",
        "if sexo =='M':\n",
        "  print ('Masculino')\n",
        "elif sexo == 'F':\n",
        "  print ('Feminino')\n",
        "elif sexo =='I':\n",
        "  print ('Indefinido')\n",
        "else:\n",
        "  print ('Sexo inválido')\n",
        "\n",
        "print ('Fim programa.')"
      ]
    },
    {
      "cell_type": "markdown",
      "metadata": {
        "id": "GSH2LpTLgpRw"
      },
      "source": [
        "#Exercicio 5"
      ]
    },
    {
      "cell_type": "code",
      "execution_count": null,
      "metadata": {
        "colab": {
          "base_uri": "https://localhost:8080/"
        },
        "id": "MzH-xvnZgxz8",
        "outputId": "456527bd-da96-403d-c6c0-161443e6cf29"
      },
      "outputs": [
        {
          "name": "stdout",
          "output_type": "stream",
          "text": [
            "Digite a primeira nota: 10\n",
            "Digite a segunda nota: 7\n",
            "sua média foi: 8.5\n",
            "Aprovado\n"
          ]
        }
      ],
      "source": [
        "nota_1 = float(input('Digite a primeira nota: '))\n",
        "nota_2 = float(input('Digite a segunda nota: '))\n",
        "media = (nota_1 + nota_2) / 2\n",
        "print (f'sua média foi: {media}')\n",
        "if media >= 10:\n",
        "  print('Aprovado com Distinção')\n",
        "elif media >=7:\n",
        "  print ('Aprovado')\n",
        "else:\n",
        "  print ('Reprovado')"
      ]
    },
    {
      "cell_type": "markdown",
      "metadata": {
        "id": "7orvpLyJiMVe"
      },
      "source": [
        "#Exercicio 19\n",
        "Programa que decompõe número de centenas, dezenas e unidades.\n"
      ]
    },
    {
      "cell_type": "code",
      "execution_count": null,
      "metadata": {
        "colab": {
          "base_uri": "https://localhost:8080/"
        },
        "id": "207HaaXFia9c",
        "outputId": "1b773460-cc31-472c-8218-0cbe509ea81d"
      },
      "outputs": [
        {
          "name": "stdout",
          "output_type": "stream",
          "text": [
            "3 dezenas\n"
          ]
        }
      ],
      "source": [
        "numero = 30\n",
        "centenas_str = dezenas_str = unidades_str = ''\n",
        "\n",
        "centenas_int, numero = divmod (numero, 100)  #porção inteira da divisão\n",
        "\n",
        "partes_numericas = 0\n",
        "\n",
        "if centenas_int == 1:\n",
        "  centenas_str = '1 centena'\n",
        "  partes_numericas += 1\n",
        "elif centenas_int > 1:\n",
        "  centenas_str = f'{centenas_int} centenas'\n",
        "  partes_numericas += 1\n",
        "\n",
        "dezenas_int, numero = divmod (numero, 10)  \n",
        "\n",
        "if dezenas_int == 1:\n",
        "  dezenas_str = '1 dezena'\n",
        "  partes_numericas += 1\n",
        "elif dezenas_int > 1:\n",
        "  dezenas_str = f'{dezenas_int} dezenas'\n",
        "  partes_numericas += 1\n",
        "\n",
        "if numero == 1:\n",
        "  unidades_str = '1 unidade'\n",
        "  partes_numericas += 1\n",
        "elif numero > 1:\n",
        "  unidades_str = f'{numero} unidades'\n",
        "  partes_numericas += 1\n",
        "\n",
        "if partes_numericas == 0:\n",
        "  print ('Numero 0 não possui, centenas, dezenas ou unidades')\n",
        "elif partes_numericas == 1:\n",
        "  print (centenas_str + dezenas_str + unidades_str)\n",
        "elif partes_numericas == 3:\n",
        "  print (f'{centenas_str}, {dezenas_str} e {unidades_str}')\n",
        "elif partes_numericas == 2:\n",
        "  if centenas_str != '':\n",
        "    segunda_parte = dezenas_str + unidades_str\n",
        "    print (f'{centenas_str} e {segunda_parte}')\n",
        "  else:\n",
        "    print (f'{dezenas_str} e {unidades_str}')\n",
        "\n"
      ]
    },
    {
      "cell_type": "markdown",
      "metadata": {
        "id": "aYM_sVTjqxIA"
      },
      "source": [
        "#Exercicio 21\n",
        "Caixa Eletrônico"
      ]
    },
    {
      "cell_type": "code",
      "execution_count": null,
      "metadata": {
        "id": "SuajVdhTq7_a"
      },
      "outputs": [],
      "source": []
    },
    {
      "cell_type": "markdown",
      "metadata": {
        "id": "JOzbpiIO6RE9"
      },
      "source": [
        "#[Estrutura Repetição](https://wiki.python.org.br/EstruturaDeRepeticao)"
      ]
    },
    {
      "cell_type": "markdown",
      "metadata": {
        "id": "b4aXjZi76Fa-"
      },
      "source": [
        "#Exercício 1\n",
        "Faça um programa que peça uma nota, entre zero e dez. Mostre uma mensagem caso o valor seja inválido e continue pedindo até que o usuário informe um valor válido."
      ]
    },
    {
      "cell_type": "code",
      "execution_count": null,
      "metadata": {
        "colab": {
          "base_uri": "https://localhost:8080/"
        },
        "id": "CEMlaZCV6JAC",
        "outputId": "d95ea767-3ab1-4889-8640-a06727beea12"
      },
      "outputs": [
        {
          "name": "stdout",
          "output_type": "stream",
          "text": [
            "Digite um valor de 0 a 10: 0\n",
            "N´mero informado é: 0\n"
          ]
        }
      ],
      "source": [
        "while True:\n",
        "  try:\n",
        "    numero = int(input('Digite um valor de 0 a 10: '))\n",
        "  except ValueError:\n",
        "    print('Deve ser fornecido um valor inteiro')\n",
        "  else:\n",
        "    if 0 <= numero <= 10:\n",
        "      print (f'Número informado é: {numero}')\n",
        "      break\n",
        "    else:\n",
        "      print('O numero deve estar entre 0 e 10')"
      ]
    },
    {
      "cell_type": "markdown",
      "metadata": {
        "id": "2wWOTv1bAXpt"
      },
      "source": [
        "Faça um programa que leia 5 números e informe o maior número."
      ]
    },
    {
      "cell_type": "code",
      "execution_count": null,
      "metadata": {
        "colab": {
          "background_save": true,
          "base_uri": "https://localhost:8080/"
        },
        "id": "uDmLDD78AWkW",
        "outputId": "86eaa93d-f2c9-4331-9142-dba4d465ff3f"
      },
      "outputs": [
        {
          "name": "stdout",
          "output_type": "stream",
          "text": [
            "Numero máximo encontrado até agora é: 95.0\n"
          ]
        }
      ],
      "source": [
        "maximo = float(input('Digite um numero: '))\n",
        "\n",
        "for _ in range (4): #não utilizar indices gerados no for\n",
        "  maximo = max(maximo, float(input('Digite um numero: ')))\n",
        "  print (f'Numero máximo encontrado até agora é: {maximo}')"
      ]
    },
    {
      "cell_type": "markdown",
      "source": [
        "#[Listas](https://wiki.python.org.br/ExerciciosListas)"
      ],
      "metadata": {
        "id": "lyGPVH3jnO2P"
      }
    },
    {
      "cell_type": "markdown",
      "source": [
        "Faça um Programa que leia um vetor de 5 números inteiros e mostre-os."
      ],
      "metadata": {
        "id": "C99zRZVsnW09"
      }
    },
    {
      "cell_type": "code",
      "source": [
        "lista = []\n",
        "for _ in range (5):\n",
        "  numero = float(input('Digite um número: '))\n",
        "  lista.append(numero)\n",
        "print (lista)\n",
        "\n"
      ],
      "metadata": {
        "colab": {
          "base_uri": "https://localhost:8080/"
        },
        "id": "QoePfXObnV8W",
        "outputId": "375c777d-34bd-4b08-d3ea-4d7cfb07dad8"
      },
      "execution_count": 6,
      "outputs": [
        {
          "output_type": "stream",
          "name": "stdout",
          "text": [
            "Digite um número: 5\n",
            "Digite um número: 9\n",
            "Digite um número: 5\n",
            "Digite um número: 3\n",
            "Digite um número: 1\n",
            "<built-in method reverse of list object at 0x7f99a43440c0>\n"
          ]
        }
      ]
    },
    {
      "cell_type": "markdown",
      "source": [
        "Faça um Programa que leia um vetor de 10 números reais e mostre-os na ordem inversa."
      ],
      "metadata": {
        "id": "G8bsQ71Oqgql"
      }
    },
    {
      "cell_type": "code",
      "source": [
        "lista = []\n",
        "for _ in range (10):\n",
        "  numero = float(input('Digite um número: '))\n",
        "  lista.append(numero)\n",
        "\n",
        "lista.reverse()\n",
        "print(lista)\n"
      ],
      "metadata": {
        "colab": {
          "base_uri": "https://localhost:8080/"
        },
        "id": "IwoWVln5qkYW",
        "outputId": "cbcf1c55-9c7e-4288-bc5a-75d7229758ea"
      },
      "execution_count": 7,
      "outputs": [
        {
          "output_type": "stream",
          "name": "stdout",
          "text": [
            "Digite um número: 1\n",
            "Digite um número: 2\n",
            "Digite um número: 3\n",
            "Digite um número: 4\n",
            "Digite um número: 5\n",
            "Digite um número: 6\n",
            "Digite um número: 7\n",
            "Digite um número: 8\n",
            "Digite um número: 9\n",
            "Digite um número: 0\n",
            "0.0\n"
          ]
        }
      ]
    },
    {
      "cell_type": "markdown",
      "source": [
        "Faça um programa que leia um número indeterminado de valores, correspondentes a notas, encerrando a entrada de dados quando for informado um valor igual a -1 (que não deve ser armazenado). Após esta entrada de dados, faça:\n",
        "Mostre a quantidade de valores que foram lidos;\n",
        "Exiba todos os valores na ordem em que foram informados, um ao lado do outro;\n",
        "Exiba todos os valores na ordem inversa à que foram informados, um abaixo do outro;\n",
        "Calcule e mostre a soma dos valores;\n",
        "Calcule e mostre a média dos valores;\n",
        "Calcule e mostre a quantidade de valores acima da média calculada;\n",
        "Calcule e mostre a quantidade de valores abaixo de sete;\n",
        "Encerre o programa com uma mensagem;"
      ],
      "metadata": {
        "id": "aNJpv4jLtkQZ"
      }
    },
    {
      "cell_type": "code",
      "source": [
        "notas = []\n",
        "while True:\n",
        "  entrada = input('Digite um numero: ')\n",
        "  if entrada == '-1':\n",
        "    break\n",
        "  notas.append(float(entrada))\n",
        "\n",
        "tamanho = len(notas)\n",
        "print(f'Foram lidas {tamanho} notas')\n",
        "print(' '.join([str(nota) for nota in notas]))\n",
        "notas.reverse()\n",
        "\n",
        "for nota in notas:\n",
        "  print(nota)\n",
        "\n",
        "soma = sum(notas)\n",
        "\n",
        "print(f'Soma das notas é: {soma}')\n",
        "media = soma / tamanho\n",
        "\n",
        "print(f'A média das notas é: {media}')\n",
        "print('Notas acima da média: ')\n",
        "print(' '.join([str(nota) for nota in notas if nota > media]))\n",
        "print('Notas abaixo de 7: ') \n",
        "print(' '.join([str(nota) for nota in notas if nota < 7]))\n",
        "\n",
        "print('ENCERRANDO O PROGRAMA!!!')\n",
        "\n"
      ],
      "metadata": {
        "colab": {
          "base_uri": "https://localhost:8080/"
        },
        "id": "rvC1LnDvtobZ",
        "outputId": "93dca137-b34c-416b-b705-60f7b657a100"
      },
      "execution_count": 9,
      "outputs": [
        {
          "output_type": "stream",
          "name": "stdout",
          "text": [
            "Digite um numero: 6\n",
            "Digite um numero: 3\n",
            "Digite um numero: 9\n",
            "Digite um numero: 5\n",
            "Digite um numero: 2\n",
            "Digite um numero: 3\n",
            "Digite um numero: -1\n",
            "Foram lidas 6 notas\n",
            "6.0 3.0 9.0 5.0 2.0 3.0\n",
            "3.0\n",
            "2.0\n",
            "5.0\n",
            "9.0\n",
            "3.0\n",
            "6.0\n",
            "Soma das notas é: 28.0\n",
            "A média das notas é: 4.666666666666667\n",
            "Notas acima da média: \n",
            "5.0 9.0 6.0\n",
            "Notas abaixo de 7: \n",
            "3.0 2.0 5.0 3.0 6.0\n",
            "ENCERRANDO O PROGRAMA!!!\n"
          ]
        }
      ]
    },
    {
      "cell_type": "markdown",
      "source": [
        "#FUNÇÕES"
      ],
      "metadata": {
        "id": "SV0qFHLo2mD9"
      }
    },
    {
      "cell_type": "code",
      "source": [],
      "metadata": {
        "id": "lMUicruG2pBY"
      },
      "execution_count": null,
      "outputs": []
    }
  ],
  "metadata": {
    "colab": {
      "provenance": [],
      "authorship_tag": "ABX9TyNGobIKV6JRWP3gQvJzJXB1",
      "include_colab_link": true
    },
    "kernelspec": {
      "display_name": "Python 3",
      "name": "python3"
    },
    "language_info": {
      "name": "python"
    }
  },
  "nbformat": 4,
  "nbformat_minor": 0
}