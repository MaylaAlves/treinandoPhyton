{
  "nbformat": 4,
  "nbformat_minor": 0,
  "metadata": {
    "colab": {
      "provenance": [],
      "authorship_tag": "ABX9TyNqo02myUbtxRYkFRZkseVF",
      "include_colab_link": true
    },
    "kernelspec": {
      "name": "python3",
      "display_name": "Python 3"
    },
    "language_info": {
      "name": "python"
    }
  },
  "cells": [
    {
      "cell_type": "markdown",
      "metadata": {
        "id": "view-in-github",
        "colab_type": "text"
      },
      "source": [
        "<a href=\"https://colab.research.google.com/github/MaylaAlves/treinandoPhyton/blob/main/desafioDevPro.ipynb\" target=\"_parent\"><img src=\"https://colab.research.google.com/assets/colab-badge.svg\" alt=\"Open In Colab\"/></a>"
      ]
    },
    {
      "cell_type": "markdown",
      "source": [
        "#Primeiro Desafio Dev Pro"
      ],
      "metadata": {
        "id": "09WHYbJF0ypV"
      }
    },
    {
      "cell_type": "markdown",
      "source": [
        "Resolução dos exercicios da [lista Phyton Brasil](https://wiki.python.org.br/ListaDeExercicios)"
      ],
      "metadata": {
        "id": "7qav9tTe1Dpc"
      }
    },
    {
      "cell_type": "markdown",
      "source": [
        "#[Estrurura sequencial](https://wiki.python.org.br/EstruturaSequencial)"
      ],
      "metadata": {
        "id": "gxswEafs1oHY"
      }
    },
    {
      "cell_type": "markdown",
      "source": [
        "Exercicio 1"
      ],
      "metadata": {
        "id": "XaPKzwFb18Kq"
      }
    },
    {
      "cell_type": "code",
      "source": [
        "print ('Hello World!')"
      ],
      "metadata": {
        "colab": {
          "base_uri": "https://localhost:8080/"
        },
        "id": "626cLKlW1-f1",
        "outputId": "85133522-f22a-404c-f508-efa3f4588d4d"
      },
      "execution_count": 1,
      "outputs": [
        {
          "output_type": "stream",
          "name": "stdout",
          "text": [
            "Hello World!\n"
          ]
        }
      ]
    },
    {
      "cell_type": "code",
      "source": [
        "type ('Hello World!')"
      ],
      "metadata": {
        "colab": {
          "base_uri": "https://localhost:8080/"
        },
        "id": "bPuWvdt92XE3",
        "outputId": "5d4f4be0-4ccd-4103-d9b8-1d9a77ec3cb2"
      },
      "execution_count": 2,
      "outputs": [
        {
          "output_type": "execute_result",
          "data": {
            "text/plain": [
              "str"
            ]
          },
          "metadata": {},
          "execution_count": 2
        }
      ]
    },
    {
      "cell_type": "markdown",
      "source": [
        "Exercicio 2"
      ],
      "metadata": {
        "id": "E4cBlNLv2kIg"
      }
    },
    {
      "cell_type": "code",
      "source": [
        "numero = input ('Digite um número: ')\n",
        "print (f'O numero informado foi {numero}')"
      ],
      "metadata": {
        "colab": {
          "base_uri": "https://localhost:8080/"
        },
        "id": "5G3UphA_2nwC",
        "outputId": "77796707-53ab-448c-c797-4462996fd547"
      },
      "execution_count": 5,
      "outputs": [
        {
          "output_type": "stream",
          "name": "stdout",
          "text": [
            "Digite um número: 57\n",
            "O numero informado foi 57\n"
          ]
        }
      ]
    },
    {
      "cell_type": "markdown",
      "source": [
        "Exrecicio 3"
      ],
      "metadata": {
        "id": "HS7qE4V93Ytt"
      }
    },
    {
      "cell_type": "code",
      "source": [
        "num_1 = int(input ('Digite um número: '))\n",
        "num_2 = int(input ('Digite outro número: '))\n",
        "soma = num_1 + num_2\n",
        "print(f'A soma dos dois números é {soma}')"
      ],
      "metadata": {
        "colab": {
          "base_uri": "https://localhost:8080/"
        },
        "id": "yMj8XPTM3bL-",
        "outputId": "e50cc6c6-76f8-418c-acd9-1a98d2f029c1"
      },
      "execution_count": 6,
      "outputs": [
        {
          "output_type": "stream",
          "name": "stdout",
          "text": [
            "Digite um número: 10\n",
            "Digite outro número: 12\n",
            "A soma dos dois números é 22\n"
          ]
        }
      ]
    },
    {
      "cell_type": "markdown",
      "source": [
        "#Exercicio 17\n",
        "\n",
        "Faça um Programa para uma loja de tintas. O programa deverá pedir o tamanho em metros quadrados da área a ser pintada. Considere que a cobertura da tinta é de 1 litro para cada 6 metros quadrados e que a tinta é vendida em latas de 18 litros, que custam R$ 80,00 ou em galões de 3,6 litros, que custam R$ 25,00.\n",
        "Informe ao usuário as quantidades de tinta a serem compradas e os respectivos preços em 3 situações:\n",
        "comprar apenas latas de 18 litros;\n",
        "comprar apenas galões de 3,6 litros;\n",
        "misturar latas e galões, de forma que o desperdício de tinta seja menor. Acrescente 10% de folga e sempre arredonde os valores para cima, isto é, considere latas cheias."
      ],
      "metadata": {
        "id": "pBymBEtR4J6d"
      }
    },
    {
      "cell_type": "code",
      "source": [
        "import math\n",
        "\n",
        "area_a_ser_pintada = int(input('Informe a área a ser pintada em m²: '))\n",
        "area_com_folga = area_a_ser_pintada * 1.1\n",
        "litros_metro = 6\n",
        "litros_usados = area_com_folga / litros_metro\n",
        "litros_lata  = 18\n",
        "numero_latas = math.ceil(litros_usados / litros_lata)\n",
        "valor_latas = numero_latas * 80\n",
        "print(f'Você deverá usar {numero_latas} latas de 18 litros, no valor de R$ {valor_latas}')\n",
        "\n",
        "litros_galao  = 3.6\n",
        "numero_galoes = math.ceil(litros_usados / litros_galao)\n",
        "valor_galoes = numero_galoes * 25\n",
        "print(f'Você deverá usar {numero_galoes} galoes 3.6 litros, no valor de R$ {valor_galoes}')\n",
        "\n",
        "#compra otimizada\n",
        "numero_latas = math.floor(litros_usados / litros_lata)\n",
        "valor_latas = numero_latas * 80\n",
        "litros_faltantes = litros_usados % litros_lata\n",
        "numero_galoes = math.ceil(litros_faltantes / litros_galao)\n",
        "valor_galoes = numero_galoes * 25\n",
        "\n",
        "valor_total = valor_latas + valor_galoes\n",
        "\n",
        "print(f'Você deverá usar {numero_latas} latas de 18 litros + {numero_galoes} galões de 3.6litros, no valor de R$ {valor_total}')\n",
        "\n",
        "\n",
        "\n"
      ],
      "metadata": {
        "colab": {
          "base_uri": "https://localhost:8080/"
        },
        "id": "PoHEUlhV4NrO",
        "outputId": "ee9dcd98-3183-4037-8770-d2f4e481df5f"
      },
      "execution_count": 10,
      "outputs": [
        {
          "output_type": "stream",
          "name": "stdout",
          "text": [
            "Informe a área a ser pintada em m²: 55\n",
            "Você deverá usar 1 latas de 18 litros, no valor de R$ 80\n",
            "Você deverá usar 3 galoes 3.6 litros, no valor de R$ 75\n",
            "Você deverá usar 0 latas de 18 litros + 3 galões de 3.6litros, no valor de R$ 75\n"
          ]
        }
      ]
    }
  ]
}